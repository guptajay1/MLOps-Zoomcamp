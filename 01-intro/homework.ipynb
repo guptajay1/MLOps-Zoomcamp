{
 "cells": [
  {
   "cell_type": "markdown",
   "id": "13311a89-e900-4741-9184-834fb4362f23",
   "metadata": {},
   "source": [
    "Q1. Downloading the data\n",
    "\n",
    "We'll use the same NYC taxi dataset, but instead of \"Green Taxi Trip Records\", we'll use \"Yellow Taxi Trip Records\".\n",
    "\n",
    "Download the data for January and February 2023.\n",
    "\n",
    "Read the data for January. How many columns are there?\n",
    "1. 16\n",
    "2. 17\n",
    "3. 18\n",
    "4. 19\n",
    "\n",
    "Answer: 19"
   ]
  },
  {
   "cell_type": "code",
   "execution_count": 1,
   "id": "ac95d39b-7560-47ab-a100-09ab3e9c3dfc",
   "metadata": {},
   "outputs": [
    {
     "data": {
      "text/plain": [
       "19"
      ]
     },
     "execution_count": 1,
     "metadata": {},
     "output_type": "execute_result"
    }
   ],
   "source": [
    "import pandas as pd\n",
    "df = pd.read_parquet(\"https://d37ci6vzurychx.cloudfront.net/trip-data/yellow_tripdata_2023-01.parquet\")\n",
    "len(df.columns)"
   ]
  },
  {
   "cell_type": "markdown",
   "id": "8ef22b32-b844-42f0-8e2a-e41c81fa812a",
   "metadata": {},
   "source": [
    "Q2. Computing duration\n",
    "\n",
    "Now let's compute the duration variable. It should contain the duration of a ride in minutes.\n",
    "\n",
    "What's the standard deviation of the trips duration in January?\n",
    "1. 32.59\n",
    "2. 42.59\n",
    "3. 52.59\n",
    "4. 62.59\n",
    "\n",
    "Answer: 42.59"
   ]
  },
  {
   "cell_type": "code",
   "execution_count": 2,
   "id": "4513a334-63d4-4b81-81a3-5755207650ac",
   "metadata": {},
   "outputs": [
    {
     "data": {
      "text/plain": [
       "42.59435124195458"
      ]
     },
     "execution_count": 2,
     "metadata": {},
     "output_type": "execute_result"
    }
   ],
   "source": [
    "df[\"duration\"] = df.tpep_dropoff_datetime - df.tpep_pickup_datetime\n",
    "df.duration = df.duration.apply(lambda td: td.total_seconds() / 60)\n",
    "df.duration.std()"
   ]
  },
  {
   "cell_type": "markdown",
   "id": "0fad9b22-0efa-4a65-b79e-f7b326a0b3e8",
   "metadata": {},
   "source": [
    "Q3. Dropping outliers\n",
    "\n",
    "Next, we need to check the distribution of the duration variable. There are some outliers. Let's remove them and keep only the records where the duration was between 1 and 60 minutes (inclusive).\n",
    "\n",
    "What fraction of the records left after you dropped the outliers?\n",
    "1. 90%\n",
    "2. 92%\n",
    "3. 95%\n",
    "4. 98%\n",
    "\n",
    "Answer: 98%"
   ]
  },
  {
   "cell_type": "code",
   "execution_count": 3,
   "id": "8da050c4-72b3-4f25-bcb1-859e3e028db0",
   "metadata": {},
   "outputs": [
    {
     "name": "stdout",
     "output_type": "stream",
     "text": [
      "0.9812202822125979\n"
     ]
    }
   ],
   "source": [
    "# df.duration.describe(percentiles=[.99, .98, .95])\n",
    "print(len(df[(df.duration >= 1) & (df.duration <= 60)]) / len(df.duration))\n",
    "df = df[(df.duration >= 1) & (df.duration <= 60)].copy()"
   ]
  },
  {
   "cell_type": "markdown",
   "id": "36eadeb8-669f-4fb3-8e08-0bef46899d88",
   "metadata": {},
   "source": [
    "Q4. One-hot encoding\n",
    "\n",
    "Let's apply one-hot encoding to the pickup and dropoff location IDs. We'll use only these two features for our model.\n",
    "\n",
    "- Turn the dataframe into a list of dictionaries (remember to re-cast the ids to strings - otherwise it will label encode them)\n",
    "- Fit a dictionary vectorizer\n",
    "- Get a feature matrix from it\n",
    "\n",
    "What's the dimensionality of this matrix (number of columns)?\n",
    "1. 2\n",
    "2. 155\n",
    "3. 345\n",
    "4. 515\n",
    "5. 715\n",
    "\n",
    "Answer: 515"
   ]
  },
  {
   "cell_type": "code",
   "execution_count": 4,
   "id": "a15ee769-5efb-4f2d-b8d5-3b4830baab96",
   "metadata": {},
   "outputs": [
    {
     "name": "stdout",
     "output_type": "stream",
     "text": [
      "Feature matrix size: (3009173, 515)\n"
     ]
    }
   ],
   "source": [
    "from sklearn.feature_extraction import DictVectorizer\n",
    "\n",
    "categorical = ['PULocationID', 'DOLocationID']\n",
    "df[categorical] = df[categorical].astype(str)\n",
    "train_dicts = df[categorical].to_dict(orient='records')\n",
    "\n",
    "dv = DictVectorizer()\n",
    "X_train = dv.fit_transform(train_dicts)\n",
    "\n",
    "print(f'Feature matrix size: {X_train.shape}')"
   ]
  },
  {
   "cell_type": "markdown",
   "id": "6220190d-4e6b-47f2-bdf7-61e579a03c04",
   "metadata": {},
   "source": [
    "Q5. Training a model\n",
    "\n",
    "Now let's use the feature matrix from the previous step to train a model.\n",
    "\n",
    "- Train a plain linear regression model with default parameters, where duration is the response variable\n",
    "- Calculate the RMSE of the model on the training data\n",
    "\n",
    "What's the RMSE on train?\n",
    "1. 3.64\n",
    "2. 7.64\n",
    "3. 11.64\n",
    "4. 16.64\n",
    "\n",
    "Answer: 7.64"
   ]
  },
  {
   "cell_type": "code",
   "execution_count": 5,
   "id": "c1d00886-eb7a-4eaf-9fc4-bcd246123045",
   "metadata": {},
   "outputs": [
    {
     "name": "stdout",
     "output_type": "stream",
     "text": [
      "Train RMSE: 7.6492624397080675\n"
     ]
    }
   ],
   "source": [
    "from sklearn.linear_model import LinearRegression\n",
    "from sklearn.metrics import root_mean_squared_error\n",
    "\n",
    "target = 'duration'\n",
    "y_train = df[target].values\n",
    "\n",
    "lr = LinearRegression()\n",
    "lr.fit(X_train, y_train)\n",
    "\n",
    "y_pred = lr.predict(X_train)\n",
    "\n",
    "print(f'Train RMSE: {root_mean_squared_error(y_train, y_pred)}')"
   ]
  },
  {
   "cell_type": "markdown",
   "id": "dbed5760-77e2-4eca-a8a3-a7742a3cb801",
   "metadata": {},
   "source": [
    "Q6. Evaluating the model\n",
    "\n",
    "Now let's apply this model to the validation dataset (February 2023).\n",
    "What's the RMSE on validation?\n",
    "\n",
    "1. 3.81\n",
    "2. 7.81\n",
    "3. 11.81\n",
    "4. 16.81\n",
    "\n",
    "Answer: 7.81"
   ]
  },
  {
   "cell_type": "code",
   "execution_count": 6,
   "id": "6532e48d-41ac-4787-a812-b7b9edec542a",
   "metadata": {},
   "outputs": [
    {
     "name": "stdout",
     "output_type": "stream",
     "text": [
      "Val RMSE: 7.81181211389241\n"
     ]
    },
    {
     "name": "stderr",
     "output_type": "stream",
     "text": [
      "/opt/conda/lib/python3.11/site-packages/sklearn/metrics/_regression.py:492: FutureWarning: 'squared' is deprecated in version 1.4 and will be removed in 1.6. To calculate the root mean squared error, use the function'root_mean_squared_error'.\n",
      "  warnings.warn(\n"
     ]
    }
   ],
   "source": [
    "import pandas as pd\n",
    "from sklearn.metrics import mean_squared_error\n",
    "\n",
    "df_val = pd.read_parquet('https://d37ci6vzurychx.cloudfront.net/trip-data/yellow_tripdata_2023-02.parquet')\n",
    "df_val['duration'] = df_val.tpep_dropoff_datetime - df_val.tpep_pickup_datetime\n",
    "df_val.duration = df_val.duration.apply(lambda td: td.total_seconds() / 60)\n",
    "df_val = df_val[(df_val.duration >= 1) & (df_val.duration <= 60)].copy()\n",
    "\n",
    "categorical = ['PULocationID', 'DOLocationID']\n",
    "df_val[categorical] = df_val[categorical].astype(str)\n",
    "\n",
    "val_dicts = df_val[categorical].to_dict(orient='records')\n",
    "\n",
    "X_val = dv.transform(val_dicts)\n",
    "y_val = df_val.duration.values\n",
    "\n",
    "y_pred = lr.predict(X_val)\n",
    "\n",
    "print(f'Val RMSE: {mean_squared_error(y_val, y_pred, squared=False)}')"
   ]
  },
  {
   "cell_type": "code",
   "execution_count": null,
   "id": "d8c43191-2b2d-45a7-b6d0-8059d35e93c4",
   "metadata": {},
   "outputs": [],
   "source": []
  }
 ],
 "metadata": {
  "kernelspec": {
   "display_name": "Python 3 (ipykernel)",
   "language": "python",
   "name": "python3"
  },
  "language_info": {
   "codemirror_mode": {
    "name": "ipython",
    "version": 3
   },
   "file_extension": ".py",
   "mimetype": "text/x-python",
   "name": "python",
   "nbconvert_exporter": "python",
   "pygments_lexer": "ipython3",
   "version": "3.11.11"
  }
 },
 "nbformat": 4,
 "nbformat_minor": 5
}
